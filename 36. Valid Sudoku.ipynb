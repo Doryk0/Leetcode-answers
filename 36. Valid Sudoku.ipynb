{
 "cells": [
  {
   "cell_type": "code",
   "execution_count": null,
   "metadata": {},
   "outputs": [],
   "source": [
    "class Solution(object):\n",
    "    def isValidSudoku(self, board):\n",
    "        \"\"\"\n",
    "        :type board: List[List[str]]\n",
    "        :rtype: bool\n",
    "        \"\"\"\n",
    "        def test_rows(board):\n",
    "            for row in board:\n",
    "                r_int = [int(x) for x in row if x.isdigit()]\n",
    "                if len(set(r_int)) != len(r_int):\n",
    "                    return False\n",
    "            return True\n",
    "\n",
    "\n",
    "        def test_square(board):\n",
    "            for row in range(0,9,3):\n",
    "\n",
    "                for col in range(0,9,3):\n",
    "                    square = []\n",
    "\n",
    "                    first_row = [int(x) for x in board[row][col:col+3] if x.isdigit()]\n",
    "                    second_row = [int(x) for x in board[row+1][col:col+3] if x.isdigit()]\n",
    "                    third_row = [int(x) for x in board[row+2][col:col+3] if x.isdigit()]\n",
    "  \n",
    "                    square += first_row\n",
    "                    square += second_row\n",
    "                    square += third_row\n",
    "\n",
    "                    if len(set(square)) != len(square):\n",
    "                        return False\n",
    "            return True\n",
    "\n",
    "\n",
    "        def test_columns(board):\n",
    "            for i in range(9):\n",
    "                col = [x[i] for x in board]\n",
    "                col_int = [int(x) for x in col if x.isdigit()]\n",
    "                if len(set(col_int)) != len(col_int):\n",
    "                    return False\n",
    "            return True\n",
    "        \n",
    "        return test_rows(board) and test_square(board) and test_columns(board)"
   ]
  }
 ],
 "metadata": {
  "kernelspec": {
   "display_name": "Python 3",
   "language": "python",
   "name": "python3"
  },
  "language_info": {
   "codemirror_mode": {
    "name": "ipython",
    "version": 3
   },
   "file_extension": ".py",
   "mimetype": "text/x-python",
   "name": "python",
   "nbconvert_exporter": "python",
   "pygments_lexer": "ipython3",
   "version": "3.7.6"
  }
 },
 "nbformat": 4,
 "nbformat_minor": 4
}
