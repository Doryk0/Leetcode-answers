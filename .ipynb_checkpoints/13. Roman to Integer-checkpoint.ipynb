{
 "cells": [
  {
   "cell_type": "code",
   "execution_count": null,
   "metadata": {},
   "outputs": [],
   "source": [
    "class Solution(object):\n",
    "    def romanToInt(self, s):\n",
    "        \"\"\"\n",
    "        :type s: str\n",
    "        :rtype: int\n",
    "        \"\"\"\n",
    "        number_code = {\n",
    "            \"I\": 1,\n",
    "            \"V\": 5,\n",
    "            \"X\": 10,\n",
    "            \"L\": 50,\n",
    "            \"C\": 100,\n",
    "            \"D\": 500,\n",
    "            \"M\": 1000,\n",
    "        }\n",
    "\n",
    "        combo = {\n",
    "            \"IV\": 2,\n",
    "            \"IX\": 2,\n",
    "            \"XL\": 20,\n",
    "            \"XC\": 20,\n",
    "            \"CD\": 200,\n",
    "            \"CM\": 200,\n",
    "        }\n",
    "\n",
    "\n",
    "        numbers_found = {}\n",
    "\n",
    "        rez = sum([number_code[x] for x in s])\n",
    "        \n",
    "        subtract = 0\n",
    "        \n",
    "        for mini_combo in combo:\n",
    "            if mini_combo in s:\n",
    "                subtract += combo[mini_combo]\n",
    "                \n",
    "        return rez - subtract"
   ]
  }
 ],
 "metadata": {
  "kernelspec": {
   "display_name": "Python 3",
   "language": "python",
   "name": "python3"
  },
  "language_info": {
   "codemirror_mode": {
    "name": "ipython",
    "version": 3
   },
   "file_extension": ".py",
   "mimetype": "text/x-python",
   "name": "python",
   "nbconvert_exporter": "python",
   "pygments_lexer": "ipython3",
   "version": "3.7.6"
  }
 },
 "nbformat": 4,
 "nbformat_minor": 4
}
