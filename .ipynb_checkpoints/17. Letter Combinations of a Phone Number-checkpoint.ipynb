{
 "cells": [
  {
   "cell_type": "code",
   "execution_count": null,
   "metadata": {},
   "outputs": [],
   "source": [
    "class Solution(object):\n",
    "    def letterCombinations(self, digits):\n",
    "        \"\"\"\n",
    "        :type digits: str\n",
    "        :rtype: List[str]\n",
    "        \"\"\"\n",
    "        if digits == \"\":\n",
    "            return []\n",
    "\n",
    "        phone_letters = {\n",
    "            '2': 'abc',\n",
    "            '3': 'def',\n",
    "            '4': 'ghi',\n",
    "            '5': 'jkl',\n",
    "            '6': 'mno',\n",
    "            '7': 'pqrs',\n",
    "            '8': 'tuv',\n",
    "            '9': 'wxyz',\n",
    "            }\n",
    "\n",
    "        def backtrack(combination, remaining_digits):\n",
    "            if not remaining_digits:\n",
    "                result.append(combination)\n",
    "                return\n",
    "\n",
    "            current_digit = remaining_digits[0]\n",
    "            letters = phone_letters[current_digit]\n",
    "\n",
    "            for letter in letters:\n",
    "                # Append the letter and make a recursive call\n",
    "                backtrack(combination + letter, remaining_digits[1:])\n",
    "\n",
    "        result = []\n",
    "        backtrack('', digits)\n",
    "        return result"
   ]
  }
 ],
 "metadata": {
  "kernelspec": {
   "display_name": "Python 3",
   "language": "python",
   "name": "python3"
  },
  "language_info": {
   "codemirror_mode": {
    "name": "ipython",
    "version": 3
   },
   "file_extension": ".py",
   "mimetype": "text/x-python",
   "name": "python",
   "nbconvert_exporter": "python",
   "pygments_lexer": "ipython3",
   "version": "3.7.6"
  }
 },
 "nbformat": 4,
 "nbformat_minor": 4
}
